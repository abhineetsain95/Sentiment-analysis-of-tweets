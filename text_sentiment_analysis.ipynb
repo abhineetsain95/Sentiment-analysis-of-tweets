{
 "cells": [
  {
   "cell_type": "markdown",
   "metadata": {},
   "source": [
    "# Assignment-1"
   ]
  },
  {
   "cell_type": "markdown",
   "metadata": {},
   "source": [
    "## Sentiment analyisis of generic and US airline tweets"
   ]
  },
  {
   "cell_type": "markdown",
   "metadata": {},
   "source": [
    "### Research question: “What can public opinion on Twitter tell us about the US airlines in 2015?”"
   ]
  },
  {
   "cell_type": "markdown",
   "metadata": {},
   "source": [
    "Following is the script for the analysis."
   ]
  },
  {
   "cell_type": "markdown",
   "metadata": {},
   "source": [
    "### Installation of necessary libraries\n",
    "Following are the libraries that are used throughout the program."
   ]
  },
  {
   "cell_type": "code",
   "execution_count": 1,
   "metadata": {
    "collapsed": false
   },
   "outputs": [
    {
     "name": "stdout",
     "output_type": "stream",
     "text": [
      "Requirement already satisfied: nltk in /home/jupyterlab/conda/lib/python3.6/site-packages (3.4)\n",
      "Requirement already satisfied: six in /home/jupyterlab/conda/lib/python3.6/site-packages (from nltk) (1.12.0)\n",
      "Requirement already satisfied: singledispatch in /home/jupyterlab/conda/lib/python3.6/site-packages (from nltk) (3.4.0.3)\n",
      "Requirement already satisfied: bs4 in /home/jupyterlab/conda/lib/python3.6/site-packages (0.0.1)\n",
      "Requirement already satisfied: beautifulsoup4 in /home/jupyterlab/conda/lib/python3.6/site-packages (from bs4) (4.7.1)\n",
      "Requirement already satisfied: soupsieve>=1.2 in /home/jupyterlab/conda/lib/python3.6/site-packages (from beautifulsoup4->bs4) (1.7.1)\n",
      "Requirement already satisfied: textblob in /home/jupyterlab/conda/lib/python3.6/site-packages (0.15.3)\n",
      "Requirement already satisfied: nltk>=3.1 in /home/jupyterlab/conda/lib/python3.6/site-packages (from textblob) (3.4)\n",
      "Requirement already satisfied: six in /home/jupyterlab/conda/lib/python3.6/site-packages (from nltk>=3.1->textblob) (1.12.0)\n",
      "Requirement already satisfied: singledispatch in /home/jupyterlab/conda/lib/python3.6/site-packages (from nltk>=3.1->textblob) (3.4.0.3)\n",
      "Requirement already satisfied: pandas in /home/jupyterlab/conda/lib/python3.6/site-packages (0.24.1)\n",
      "Requirement already satisfied: numpy>=1.12.0 in /home/jupyterlab/conda/lib/python3.6/site-packages (from pandas) (1.15.4)\n",
      "Requirement already satisfied: python-dateutil>=2.5.0 in /home/jupyterlab/conda/lib/python3.6/site-packages (from pandas) (2.7.5)\n",
      "Requirement already satisfied: pytz>=2011k in /home/jupyterlab/conda/lib/python3.6/site-packages (from pandas) (2018.9)\n",
      "Requirement already satisfied: six>=1.5 in /home/jupyterlab/conda/lib/python3.6/site-packages (from python-dateutil>=2.5.0->pandas) (1.12.0)\n",
      "Requirement already satisfied: matplotlib in /home/jupyterlab/conda/lib/python3.6/site-packages (3.0.2)\n",
      "Requirement already satisfied: numpy>=1.10.0 in /home/jupyterlab/conda/lib/python3.6/site-packages (from matplotlib) (1.15.4)\n",
      "Requirement already satisfied: cycler>=0.10 in /home/jupyterlab/conda/lib/python3.6/site-packages (from matplotlib) (0.10.0)\n",
      "Requirement already satisfied: kiwisolver>=1.0.1 in /home/jupyterlab/conda/lib/python3.6/site-packages (from matplotlib) (1.0.1)\n",
      "Requirement already satisfied: pyparsing!=2.0.4,!=2.1.2,!=2.1.6,>=2.0.1 in /home/jupyterlab/conda/lib/python3.6/site-packages (from matplotlib) (2.3.1)\n",
      "Requirement already satisfied: python-dateutil>=2.1 in /home/jupyterlab/conda/lib/python3.6/site-packages (from matplotlib) (2.7.5)\n",
      "Requirement already satisfied: six in /home/jupyterlab/conda/lib/python3.6/site-packages (from cycler>=0.10->matplotlib) (1.12.0)\n",
      "Requirement already satisfied: setuptools in /home/jupyterlab/conda/lib/python3.6/site-packages (from kiwisolver>=1.0.1->matplotlib) (40.8.0)\n",
      "Requirement already satisfied: numpy in /home/jupyterlab/conda/lib/python3.6/site-packages (1.15.4)\n",
      "Requirement already satisfied: seaborn in /home/jupyterlab/conda/lib/python3.6/site-packages (0.9.0)\n",
      "Requirement already satisfied: scipy>=0.14.0 in /home/jupyterlab/conda/lib/python3.6/site-packages (from seaborn) (1.1.0)\n",
      "Requirement already satisfied: numpy>=1.9.3 in /home/jupyterlab/conda/lib/python3.6/site-packages (from seaborn) (1.15.4)\n",
      "Requirement already satisfied: matplotlib>=1.4.3 in /home/jupyterlab/conda/lib/python3.6/site-packages (from seaborn) (3.0.2)\n",
      "Requirement already satisfied: pandas>=0.15.2 in /home/jupyterlab/conda/lib/python3.6/site-packages (from seaborn) (0.24.1)\n",
      "Requirement already satisfied: cycler>=0.10 in /home/jupyterlab/conda/lib/python3.6/site-packages (from matplotlib>=1.4.3->seaborn) (0.10.0)\n",
      "Requirement already satisfied: kiwisolver>=1.0.1 in /home/jupyterlab/conda/lib/python3.6/site-packages (from matplotlib>=1.4.3->seaborn) (1.0.1)\n",
      "Requirement already satisfied: pyparsing!=2.0.4,!=2.1.2,!=2.1.6,>=2.0.1 in /home/jupyterlab/conda/lib/python3.6/site-packages (from matplotlib>=1.4.3->seaborn) (2.3.1)\n",
      "Requirement already satisfied: python-dateutil>=2.1 in /home/jupyterlab/conda/lib/python3.6/site-packages (from matplotlib>=1.4.3->seaborn) (2.7.5)\n",
      "Requirement already satisfied: pytz>=2011k in /home/jupyterlab/conda/lib/python3.6/site-packages (from pandas>=0.15.2->seaborn) (2018.9)\n",
      "Requirement already satisfied: six in /home/jupyterlab/conda/lib/python3.6/site-packages (from cycler>=0.10->matplotlib>=1.4.3->seaborn) (1.12.0)\n",
      "Requirement already satisfied: setuptools in /home/jupyterlab/conda/lib/python3.6/site-packages (from kiwisolver>=1.0.1->matplotlib>=1.4.3->seaborn) (40.8.0)\n",
      "Requirement already satisfied: regex in /home/jupyterlab/conda/lib/python3.6/site-packages (2019.2.21)\n",
      "Requirement already satisfied: sklearn in /home/jupyterlab/conda/lib/python3.6/site-packages (0.0)\n",
      "Requirement already satisfied: scikit-learn in /home/jupyterlab/conda/lib/python3.6/site-packages (from sklearn) (0.20.1)\n",
      "Requirement already satisfied: numpy>=1.8.2 in /home/jupyterlab/conda/lib/python3.6/site-packages (from scikit-learn->sklearn) (1.15.4)\n",
      "Requirement already satisfied: scipy>=0.13.3 in /home/jupyterlab/conda/lib/python3.6/site-packages (from scikit-learn->sklearn) (1.1.0)\n"
     ]
    }
   ],
   "source": [
    "!pip install nltk\n",
    "!pip install bs4\n",
    "!pip install textblob\n",
    "!pip install pandas\n",
    "!pip install matplotlib\n",
    "!pip install numpy\n",
    "!pip install seaborn\n",
    "!pip install regex\n",
    "!pip install sklearn"
   ]
  },
  {
   "cell_type": "markdown",
   "metadata": {},
   "source": [
    "### Importing all the libraries and associated sub-packages"
   ]
  },
  {
   "cell_type": "code",
   "execution_count": 2,
   "metadata": {
    "collapsed": false
   },
   "outputs": [
    {
     "name": "stderr",
     "output_type": "stream",
     "text": [
      "[nltk_data] Downloading package punkt to /home/jupyterlab/nltk_data...\n",
      "[nltk_data]   Package punkt is already up-to-date!\n"
     ]
    }
   ],
   "source": [
    "import pandas as pd\n",
    "import numpy as np\n",
    "import re\n",
    "from bs4 import BeautifulSoup\n",
    "import matplotlib.pyplot as plt\n",
    "import seaborn\n",
    "from textblob import TextBlob\n",
    "import nltk\n",
    "nltk.download('punkt')\n",
    "%matplotlib inline"
   ]
  },
  {
   "cell_type": "markdown",
   "metadata": {},
   "source": [
    "### Reading the different files\n",
    "> 1. \"generic_tweets.txt\" into pandas dataframe df_gt\n",
    "> 2. \"US_airline_tweets.csv\" in to pandas dataframe df_at\n",
    "> 3. \"stop_words.txt\" read as a text file and stop words extracted as a list: sw_list"
   ]
  },
  {
   "cell_type": "code",
   "execution_count": 3,
   "metadata": {
    "collapsed": true
   },
   "outputs": [],
   "source": [
    "df_gt = pd.read_csv(\"generic_tweets.txt\")\n",
    "df_at = pd.read_csv(\"US_airline_tweets.csv\")\n",
    "sw = open(\"stop_words.txt\",'r')\n",
    "sw_list = str(sw.read()).split('\\n')"
   ]
  },
  {
   "cell_type": "markdown",
   "metadata": {},
   "source": [
    "Checking the number of samples for each data set"
   ]
  },
  {
   "cell_type": "code",
   "execution_count": 4,
   "metadata": {
    "collapsed": false
   },
   "outputs": [
    {
     "data": {
      "text/plain": [
       "(200000, 11541)"
      ]
     },
     "execution_count": 4,
     "metadata": {},
     "output_type": "execute_result"
    }
   ],
   "source": [
    "len(df_gt), len(df_at)"
   ]
  },
  {
   "cell_type": "markdown",
   "metadata": {},
   "source": [
    "Removing any duplicate entries in the data set and resetting the index for both datasets."
   ]
  },
  {
   "cell_type": "code",
   "execution_count": 5,
   "metadata": {
    "collapsed": true
   },
   "outputs": [],
   "source": [
    "df_gt = df_gt.drop_duplicates()\n",
    "df_gt = df_gt.reset_index(drop=True)"
   ]
  },
  {
   "cell_type": "code",
   "execution_count": 6,
   "metadata": {
    "collapsed": true
   },
   "outputs": [],
   "source": [
    "df_at = df_at.drop_duplicates()\n",
    "df_at = df_at.reset_index(drop=True)"
   ]
  },
  {
   "cell_type": "markdown",
   "metadata": {},
   "source": [
    "Checking the number of samples after removing duplicates. The number of generic tweets remain the same but there were some duplicates in the US airline tweets which have now been removed."
   ]
  },
  {
   "cell_type": "code",
   "execution_count": 7,
   "metadata": {
    "collapsed": false
   },
   "outputs": [
    {
     "data": {
      "text/plain": [
       "(200000, 11458)"
      ]
     },
     "execution_count": 7,
     "metadata": {},
     "output_type": "execute_result"
    }
   ],
   "source": [
    "len(df_gt), len(df_at)"
   ]
  },
  {
   "cell_type": "markdown",
   "metadata": {},
   "source": [
    "Creating a column containing the length of each tweet in both datasets before any pre-processing/cleaning step."
   ]
  },
  {
   "cell_type": "code",
   "execution_count": 8,
   "metadata": {
    "collapsed": true
   },
   "outputs": [],
   "source": [
    "df_gt['Length'] = [len(tweet) for tweet in df_gt['text']]"
   ]
  },
  {
   "cell_type": "code",
   "execution_count": 9,
   "metadata": {
    "collapsed": true
   },
   "outputs": [],
   "source": [
    "df_at['Length'] = [len(tweet) for tweet in df_at['text']]"
   ]
  },
  {
   "cell_type": "markdown",
   "metadata": {},
   "source": [
    "### Data cleaning\n",
    "\n",
    "Removing all html tags, attributes and character codes in the 'text' column of both dataframes using BeautifulSoup library. The operation was performed twice in order to ensure removal of all html associated characters."
   ]
  },
  {
   "cell_type": "code",
   "execution_count": 10,
   "metadata": {
    "collapsed": true
   },
   "outputs": [],
   "source": [
    "df_gt['text'] = df_gt['text'].apply(lambda x: BeautifulSoup(BeautifulSoup(x).get_text()).get_text())"
   ]
  },
  {
   "cell_type": "code",
   "execution_count": 11,
   "metadata": {
    "collapsed": true
   },
   "outputs": [],
   "source": [
    "df_at['text'] = df_at['text'].apply(lambda x: BeautifulSoup(BeautifulSoup(x).get_text()).get_text())"
   ]
  },
  {
   "cell_type": "markdown",
   "metadata": {},
   "source": [
    "Recording the modified length of the tweet in a separate column \"Length_2\"."
   ]
  },
  {
   "cell_type": "code",
   "execution_count": 12,
   "metadata": {
    "collapsed": true
   },
   "outputs": [],
   "source": [
    "df_gt['Length_2'] = [len(tweet) for tweet in df_gt['text']]"
   ]
  },
  {
   "cell_type": "code",
   "execution_count": 13,
   "metadata": {
    "collapsed": true
   },
   "outputs": [],
   "source": [
    "df_at['Length_2'] = [len(tweet) for tweet in df_at['text']]"
   ]
  },
  {
   "cell_type": "markdown",
   "metadata": {},
   "source": [
    "Removing all other remaining special characters in the text by encoding in ascii and decoding to string."
   ]
  },
  {
   "cell_type": "code",
   "execution_count": 14,
   "metadata": {
    "collapsed": true
   },
   "outputs": [],
   "source": [
    "df_gt['text'] = df_gt['text'].apply(lambda x: x.encode(encoding = 'ascii',errors='replace').decode())"
   ]
  },
  {
   "cell_type": "code",
   "execution_count": 15,
   "metadata": {
    "collapsed": true
   },
   "outputs": [],
   "source": [
    "df_at['text'] = df_at['text'].apply(lambda x: x.encode(encoding = 'ascii',errors='replace').decode())"
   ]
  },
  {
   "cell_type": "markdown",
   "metadata": {},
   "source": [
    "Removing all punctuation in the text by replacing it with empty string."
   ]
  },
  {
   "cell_type": "code",
   "execution_count": 16,
   "metadata": {
    "collapsed": true
   },
   "outputs": [],
   "source": [
    "for punctuation in [',','.','!','*','?','[',']','/','+','(',')','%','$','~','<','>','\"',';',':','#']:\n",
    "    df_gt['text'] = df_gt['text'].apply(lambda x: x.replace(punctuation,''))"
   ]
  },
  {
   "cell_type": "code",
   "execution_count": 17,
   "metadata": {
    "collapsed": true
   },
   "outputs": [],
   "source": [
    "for punctuation in [',','.','!','*','?','[',']','/','+','(',')','%','$','~','<','>','\"',';',':','#']:\n",
    "    df_at['text'] = df_at['text'].apply(lambda x: x.replace(punctuation,''))"
   ]
  },
  {
   "cell_type": "markdown",
   "metadata": {},
   "source": [
    "Filtering away the URLs (all words starting with 'http') from both dataframes"
   ]
  },
  {
   "cell_type": "code",
   "execution_count": 18,
   "metadata": {
    "collapsed": true
   },
   "outputs": [],
   "source": [
    "df_gt['text'] = df_gt['text'].apply(lambda y: \" \".join(filter(lambda x:x[0:4]!='http', y.split())))"
   ]
  },
  {
   "cell_type": "code",
   "execution_count": 19,
   "metadata": {
    "collapsed": true
   },
   "outputs": [],
   "source": [
    "df_at['text'] = df_at['text'].apply(lambda y: \" \".join(filter(lambda x:x[0:4]!='http', y.split())))"
   ]
  },
  {
   "cell_type": "markdown",
   "metadata": {},
   "source": [
    "Filtering away all the '@' tagged words from the generic tweets dataframe (since it is not needed for this case)."
   ]
  },
  {
   "cell_type": "code",
   "execution_count": 20,
   "metadata": {
    "collapsed": true
   },
   "outputs": [],
   "source": [
    "df_gt['text'] = df_gt['text'].apply(lambda y: \" \".join(filter(lambda x:x[0]!='@', y.split())))"
   ]
  },
  {
   "cell_type": "markdown",
   "metadata": {},
   "source": [
    "Collecting all the '@' tagged words in each tweet of the US airline dataset, in a separate column (for future extraction of airline name)."
   ]
  },
  {
   "cell_type": "code",
   "execution_count": 21,
   "metadata": {
    "collapsed": true
   },
   "outputs": [],
   "source": [
    "airline_tags=[]\n",
    "for tweet in df_at[\"text\"]:\n",
    "    airlines = re.findall(r'@\\w+',tweet)\n",
    "    airlines = \" \".join(airlines)\n",
    "    airline_tags.append(airlines)\n",
    "df_at['@ tag words']=airline_tags"
   ]
  },
  {
   "cell_type": "markdown",
   "metadata": {},
   "source": [
    "Filtering away all the '@' tagged words from the US airline tweets dataframe (since we already have them separately)."
   ]
  },
  {
   "cell_type": "code",
   "execution_count": 22,
   "metadata": {
    "collapsed": true
   },
   "outputs": [],
   "source": [
    "df_at['text'] = df_at['text'].apply(lambda y: \" \".join(filter(lambda x:x[0]!='@', y.split())))"
   ]
  },
  {
   "cell_type": "markdown",
   "metadata": {},
   "source": [
    "Recording the modified length of the tweet as a new column"
   ]
  },
  {
   "cell_type": "code",
   "execution_count": 23,
   "metadata": {
    "collapsed": true
   },
   "outputs": [],
   "source": [
    "df_gt['Length_3'] = [len(tweet) for tweet in df_gt['text']]"
   ]
  },
  {
   "cell_type": "code",
   "execution_count": 24,
   "metadata": {
    "collapsed": true
   },
   "outputs": [],
   "source": [
    "df_at['Length_3'] = [len(tweet) for tweet in df_at['text']]"
   ]
  },
  {
   "cell_type": "markdown",
   "metadata": {},
   "source": [
    "### Minor digression into 'Exploratory Analysis'\n",
    "#### Determination of airline\n",
    "\n",
    "Creating a potential set of airline tweets, taken from the first '@' tag in each tweet."
   ]
  },
  {
   "cell_type": "code",
   "execution_count": 25,
   "metadata": {
    "collapsed": false
   },
   "outputs": [],
   "source": [
    "tag_set = set([])\n",
    "max_words = 0\n",
    "for collection in list(df_at['@ tag words']):\n",
    "    words = collection.split()\n",
    "    max_words = max(max_words,len(words))\n",
    "    if len(words) == 1:\n",
    "        tag_set.add(words[0].lower())\n",
    "\n",
    "new_set = set()\n",
    "for collection in list(df_at['@ tag words']):\n",
    "    words = collection.split()\n",
    "    words = [x.lower() for x in words]\n",
    "    words_set = set(words)\n",
    "    if words_set.intersection(tag_set) == set():\n",
    "        new_set = new_set.union(words_set)"
   ]
  },
  {
   "cell_type": "markdown",
   "metadata": {},
   "source": [
    "Creating a dictionary containing all major airline names and their associated tags extracted from the previous step as well as additional tags searched online.\n",
    "\n",
    "##### NOTE:\n",
    "Since Virgin America has been acquired by Alaska Airlines, all @virginamerica tweets are considered under Alaska Airlines."
   ]
  },
  {
   "cell_type": "code",
   "execution_count": 26,
   "metadata": {
    "collapsed": true
   },
   "outputs": [],
   "source": [
    "tags_dict = {'American Airlines':{'@americanair', '@americanairif', '@americanairstill', '@aairwaves'},\n",
    "'Delta Air Lines':{'@deltaassist','@delta'},\n",
    "'JetBlue':{'@jetblue'},\n",
    "'Southwest Airlines':{'@southwestair', '@southwestairgive'},\n",
    "'United Airlines':{'@united', '@unitedlies', '@unitedâ','@ualistheworst'},\n",
    "'US Airways':{'@usairways'},\n",
    "'Alaska Airlines':{'@virginamerica','@alaskaair','@alaskafleet'},\n",
    "'Allegiant Air': {'@allegiant'},\n",
    "'Frontier Airlines':{'@flyfrontier', '@frontiercare', '@frontier_ripoff'},\n",
    "'Hawaiian Airlines':{'@hawaiianair','flyhawaiian','@dontflyhawaiian'},\n",
    "'Spirit Airlines':{'@spiritairlines', '@spiritairsucks'}}"
   ]
  },
  {
   "cell_type": "markdown",
   "metadata": {},
   "source": [
    "Creating a separate column containing the list of all airlines associated with a particular tweet (all text converted to lower case before use)\n",
    "\n",
    "##### NOTE:\n",
    "There is more than one airline associated with a particular tweet."
   ]
  },
  {
   "cell_type": "code",
   "execution_count": 27,
   "metadata": {
    "collapsed": true
   },
   "outputs": [],
   "source": [
    "airline_tags = []\n",
    "for collection in list(df_at['@ tag words']):\n",
    "    words = collection.split()\n",
    "    words = [x.lower() for x in words]\n",
    "    words = set(words)\n",
    "    airline_tags_list = []\n",
    "    for airline in tags_dict.keys():\n",
    "        if tags_dict[airline].intersection(words) != set():\n",
    "            airline_tags_list.append(airline)\n",
    "    airline_tags.append(airline_tags_list)\n",
    "df_at['Airline'] = airline_tags"
   ]
  },
  {
   "cell_type": "markdown",
   "metadata": {},
   "source": [
    "To simplify further processing, a new column for each ariline company was created in the US airline dataframe, containing True/False values according to the presence of associated tags in the respective tweet."
   ]
  },
  {
   "cell_type": "code",
   "execution_count": 28,
   "metadata": {
    "collapsed": true
   },
   "outputs": [],
   "source": [
    "american_air = []\n",
    "delta = []\n",
    "jetblue = []\n",
    "swair = []\n",
    "united = []\n",
    "usair = []\n",
    "alaskaair = []\n",
    "allair = []\n",
    "frontair = []\n",
    "hawair = []\n",
    "spair = []\n",
    "\n",
    "for airlist in df_at['Airline']:\n",
    "    if 'American Airlines' in airlist:\n",
    "        american_air.append(True)\n",
    "    else:\n",
    "        american_air.append(False)\n",
    "for airlist in df_at['Airline']:\n",
    "    if 'Delta Air Lines' in airlist:\n",
    "        delta.append(True)\n",
    "    else:\n",
    "        delta.append(False)\n",
    "for airlist in df_at['Airline']:\n",
    "    if 'JetBlue' in airlist:\n",
    "        jetblue.append(True)\n",
    "    else:\n",
    "        jetblue.append(False)\n",
    "for airlist in df_at['Airline']:\n",
    "    if 'Southwest Airlines' in airlist:\n",
    "        swair.append(True)\n",
    "    else:\n",
    "        swair.append(False)\n",
    "for airlist in df_at['Airline']:\n",
    "    if 'United Airlines' in airlist:\n",
    "        united.append(True)\n",
    "    else:\n",
    "        united.append(False)\n",
    "for airlist in df_at['Airline']:\n",
    "    if 'US Airways' in airlist:\n",
    "        usair.append(True)\n",
    "    else:\n",
    "        usair.append(False)\n",
    "for airlist in df_at['Airline']:\n",
    "    if 'Alaska Airlines' in airlist:\n",
    "        alaskaair.append(True)\n",
    "    else:\n",
    "        alaskaair.append(False)\n",
    "for airlist in df_at['Airline']:\n",
    "    if 'Allegiant Air' in airlist:\n",
    "        allair.append(True)\n",
    "    else:\n",
    "        allair.append(False)\n",
    "for airlist in df_at['Airline']:\n",
    "    if 'Frontier Airlines' in airlist:\n",
    "        frontair.append(True)\n",
    "    else:\n",
    "        frontair.append(False)\n",
    "for airlist in df_at['Airline']:\n",
    "    if 'Hawaiian Airlines' in airlist:\n",
    "        hawair.append(True)\n",
    "    else:\n",
    "        hawair.append(False)\n",
    "for airlist in df_at['Airline']:\n",
    "    if 'Spirit Airlines' in airlist:\n",
    "        spair.append(True)\n",
    "    else:\n",
    "        spair.append(False)\n",
    "\n",
    "df_at['American Airlines'] = american_air\n",
    "df_at['Delta Air Lines'] = delta\n",
    "df_at['JetBlue'] = jetblue\n",
    "df_at['Southwest Airlines'] = swair\n",
    "df_at['United Airlines'] = united\n",
    "df_at['US Airways'] = usair\n",
    "df_at['Alaska Airlines'] = alaskaair\n",
    "df_at['Allegiant Air'] = allair\n",
    "df_at['Frontier Airlines'] = frontair\n",
    "df_at['Hawaiian Airlines'] = hawair\n",
    "df_at['Spirit Airlines'] = spair"
   ]
  },
  {
   "cell_type": "markdown",
   "metadata": {},
   "source": [
    "### Data cleaning - continued\n",
    "\n",
    "#### Conversion to lower case and removal of stop words\n",
    "\n",
    "Converting all text to lower case and removal of stop words before and after removal of apostrophe (') to facilitate removal of stop words like \"I'll\" and also words like \"wont\". Stop words are taken from the stop_words optional file, loaded in the beginning."
   ]
  },
  {
   "cell_type": "code",
   "execution_count": 29,
   "metadata": {
    "collapsed": true
   },
   "outputs": [],
   "source": [
    "df_gt['text'] = df_gt['text'].apply(lambda x: x.lower())\n",
    "df_gt['text'] = df_gt['text'].apply(lambda x: \" \".join(x for x in x.split() if x not in sw_list))\n",
    "df_gt['text'] = df_gt['text'].apply(lambda x: x.replace(\"'\",''))\n",
    "df_gt['text'] = df_gt['text'].apply(lambda x: \" \".join(x for x in x.split() if x not in sw_list))"
   ]
  },
  {
   "cell_type": "code",
   "execution_count": 30,
   "metadata": {
    "collapsed": true
   },
   "outputs": [],
   "source": [
    "df_at['text'] = df_at['text'].apply(lambda x: x.lower())\n",
    "df_at['text'] = df_at['text'].apply(lambda x: \" \".join(x for x in x.split() if x not in sw_list))\n",
    "df_at['text'] = df_at['text'].apply(lambda x: x.replace(\"'\",''))\n",
    "df_at['text'] = df_at['text'].apply(lambda x: \" \".join(x for x in x.split() if x not in sw_list))"
   ]
  },
  {
   "cell_type": "markdown",
   "metadata": {},
   "source": [
    "Recording the final length of the tweet as a new column."
   ]
  },
  {
   "cell_type": "code",
   "execution_count": 31,
   "metadata": {
    "collapsed": true
   },
   "outputs": [],
   "source": [
    "df_gt['Length_4'] = [len(tweet) for tweet in df_gt['text']]"
   ]
  },
  {
   "cell_type": "code",
   "execution_count": 32,
   "metadata": {
    "collapsed": true
   },
   "outputs": [],
   "source": [
    "df_at['Length_4'] = [len(tweet) for tweet in df_at['text']]"
   ]
  },
  {
   "cell_type": "markdown",
   "metadata": {},
   "source": [
    "### Exploratory analysis\n",
    "\n",
    "Plotting the distribution of all tweets among different airlines."
   ]
  },
  {
   "cell_type": "code",
   "execution_count": 33,
   "metadata": {
    "collapsed": false
   },
   "outputs": [
    {
     "data": {
      "text/plain": [
       "Text(0.5, 1.0, 'Distribution of tweets among different airlines')"
      ]
     },
     "execution_count": 33,
     "metadata": {},
     "output_type": "execute_result"
    },
    {
     "data": {
      "image/png": "[encoded data removed]",
      "text/plain": [
       "<Figure size 432x288 with 1 Axes>"
      ]
     },
     "metadata": {
      "needs_background": "light"
     },
     "output_type": "display_data"
    }
   ],
   "source": [
    "X = np.arange(len(tags_dict.keys()))\n",
    "Y = [len(df_at[df_at[airline]]) for airline in tags_dict.keys()]\n",
    "width = 0.8\n",
    "p1 = plt.bar(X, Y, width)\n",
    "plt.xticks(X,tags_dict.keys(),rotation='vertical')\n",
    "plt.xlabel('Airline', fontsize=14)\n",
    "plt.ylabel('Total number of tweets', fontsize = 14)\n",
    "plt.title('Distribution of tweets among different airlines', fontsize = 16)"
   ]
  },
  {
   "cell_type": "code",
   "execution_count": 34,
   "metadata": {
    "collapsed": false
   },
   "outputs": [
    {
     "name": "stdout",
     "output_type": "stream",
     "text": [
      "[2368, 59, 1509, 1780, 3164, 2590, 344, 0, 1, 0, 8]\n"
     ]
    }
   ],
   "source": [
    "print(Y)"
   ]
  },
  {
   "cell_type": "markdown",
   "metadata": {},
   "source": [
    "It can be seen from the above plot that United Airlines has the maximum number of tweets followed by US Airways (now discontinued), American Airlines, Southwest Airlines JetBlue, Alaska Airlines (including Virgin America), Delta Airlines, Spirit Airlines and Frontier Airlines.\n",
    "\n",
    "Furthermore, it would be better to see the distribution of positive and negative tweets among these. Therefore the following figure was plotted."
   ]
  },
  {
   "cell_type": "code",
   "execution_count": 35,
   "metadata": {
    "collapsed": false
   },
   "outputs": [
    {
     "data": {
      "text/plain": [
       "<matplotlib.legend.Legend at 0x7f7beff8cf60>"
      ]
     },
     "execution_count": 35,
     "metadata": {},
     "output_type": "execute_result"
    },
    {
     "data": {
      "image/png": "[encoded data removed]",
      "text/plain": [
       "<Figure size 432x288 with 1 Axes>"
      ]
     },
     "metadata": {
      "needs_background": "light"
     },
     "output_type": "display_data"
    }
   ],
   "source": [
    "X = np.arange(len(tags_dict.keys()))\n",
    "df_at_positive = df_at[df_at['sentiment'] == 'positive']\n",
    "df_at_negative = df_at[df_at['sentiment'] == 'negative']\n",
    "Y1 = [len(df_at_positive[df_at_positive[airline]]) for airline in tags_dict.keys()]\n",
    "Y2 = [len(df_at_negative[df_at_negative[airline]]) for airline in tags_dict.keys()]\n",
    "p1 = plt.bar(X, Y1)\n",
    "p2 = plt.bar(X, Y2, bottom = Y1, color='#d62728')\n",
    "plt.xticks(X,tags_dict.keys(), rotation='vertical')\n",
    "plt.ylabel(\"Number of tweets\", fontsize = 14)\n",
    "plt.xlabel(\"Airline associated wth tweets\", fontsize = 14)\n",
    "plt.title(\"Distribution of tweets among different airlines\", fontsize = 16)\n",
    "plt.legend((p1[0], p2[0]), ('Positive sentiment', 'Negative sentiment'), loc='best')"
   ]
  },
  {
   "cell_type": "markdown",
   "metadata": {},
   "source": [
    "The plot shows that majority of tweets among most of the different airlines have negative sentiment.\n",
    "\n",
    "A better representation to study that distribution would be the percentage of positive tweets plotted for each airline."
   ]
  },
  {
   "cell_type": "code",
   "execution_count": 36,
   "metadata": {
    "collapsed": false
   },
   "outputs": [
    {
     "name": "stderr",
     "output_type": "stream",
     "text": [
      "/home/jupyterlab/conda/lib/python3.6/site-packages/ipykernel_launcher.py:1: RuntimeWarning: invalid value encountered in true_divide\n",
      "  \"\"\"Entry point for launching an IPython kernel.\n"
     ]
    },
    {
     "data": {
      "text/plain": [
       "Text(0.5, 1.0, 'Plot showing percentage of positive tweets among different airlines')"
      ]
     },
     "execution_count": 36,
     "metadata": {},
     "output_type": "execute_result"
    },
    {
     "data": {
      "image/png": "[encoded data removed]",
      "text/plain": [
       "<Figure size 432x288 with 1 Axes>"
      ]
     },
     "metadata": {
      "needs_background": "light"
     },
     "output_type": "display_data"
    }
   ],
   "source": [
    "Y3 = np.divide(Y1,np.add(Y1,Y2))*100\n",
    "plt.bar(X,Y3)\n",
    "plt.xticks(X,tags_dict.keys(), rotation='vertical')\n",
    "plt.ylabel(\"Percentage of positive tweets\",fontsize = 14)\n",
    "plt.xlabel(\"Airline associated wth tweets\",fontsize = 14)\n",
    "plt.title(\"Plot showing percentage of positive tweets among different airlines\",fontsize = 16)"
   ]
  },
  {
   "cell_type": "markdown",
   "metadata": {},
   "source": [
    "Here we see that Frontier Airlines has the maximum percentage of positive tweets (actually 100% because there is only one positive tweet in total for it). Alaska Airlines (Virgin America) comes next followed by JetBlue Southwest Airlines and others as shown in the Figure above.\n",
    "\n",
    "### Some inferences\n",
    "1. Since for most airlines, the sentiment of the tweets is negative, it indicates that twitter is one way through which customers vent-out their dissatisfaction with the airline service. Therefore, judging an airline service solely by the tweet sentiment may result in erroneous preconceptions.\n",
    "2. Since United Airlines, US Airways and American Airlines are the ones with highest number of tweets, these are probably the most frequently used by customers (probably because of their fleet size, connectivity, flight schedules, etc.) in the United States in 2015, assuming the same ratio of customers tweeting among all those who travel, for all airlines.\n",
    "3. JetBlue, Southwest Airlines and Alaska Airlines seem to have more balanced sentiment compared to top three, suggesting better customer experience than others.\n",
    "4. Delta Airlines, Allegiant Air, Frontier Airlines, Hawaiian Airlines and Spirit Airlines seem to be less crowded (maybe because of lesser fleet size or inappropriate schedules, etc.) resulting in low number of tweets in total. Another reason might be that the type of customers using these airlines may not be using twitter that often."
   ]
  },
  {
   "cell_type": "code",
   "execution_count": 37,
   "metadata": {
    "collapsed": false
   },
   "outputs": [
    {
     "data": {
      "text/plain": [
       "Text(0.5, 1.0, 'Plot showing number of positive and negative sentiment tweets')"
      ]
     },
     "execution_count": 37,
     "metadata": {},
     "output_type": "execute_result"
    },
    {
     "data": {
      "image/png": "[encoded data removed]",
      "text/plain": [
       "<Figure size 432x288 with 1 Axes>"
      ]
     },
     "metadata": {
      "needs_background": "light"
     },
     "output_type": "display_data"
    }
   ],
   "source": [
    "plt.bar(['Negative sentiment','Positive sentiment'],[len(df_gt[df_gt['class'] == 0]),len(df_gt[df_gt['class'] == 4])])\n",
    "plt.xticks(rotation='vertical')\n",
    "plt.ylabel(\"Number of tweets\",fontsize = 14)\n",
    "plt.xlabel(\"Nature of tweet\",fontsize = 14)\n",
    "plt.title(\"Plot showing number of positive and negative sentiment tweets\",fontsize = 16)"
   ]
  },
  {
   "cell_type": "markdown",
   "metadata": {},
   "source": [
    "The above plot shows that the generic tweets are equally distributed among positive and negative sentiment tweets."
   ]
  },
  {
   "cell_type": "code",
   "execution_count": 38,
   "metadata": {
    "collapsed": false
   },
   "outputs": [],
   "source": [
    "positive_gt = df_gt[df_gt['class'] == 0]\n",
    "negative_gt = df_gt[df_gt['class'] == 4]"
   ]
  },
  {
   "cell_type": "markdown",
   "metadata": {},
   "source": [
    "### BONUS Figure"
   ]
  },
  {
   "cell_type": "code",
   "execution_count": 39,
   "metadata": {
    "collapsed": false
   },
   "outputs": [
    {
     "data": {
      "text/plain": [
       "<matplotlib.legend.Legend at 0x7f7bee2b5da0>"
      ]
     },
     "execution_count": 39,
     "metadata": {},
     "output_type": "execute_result"
    },
    {
     "data": {
      "image/png": "[encoded data removed]",
      "text/plain": [
       "<Figure size 432x288 with 1 Axes>"
      ]
     },
     "metadata": {
      "needs_background": "light"
     },
     "output_type": "display_data"
    }
   ],
   "source": [
    "plt.hist([list(positive_gt['Length']), list(positive_gt['Length_4']),negative_gt['Length'], list(negative_gt['Length_4'])],bins=15)\n",
    "plt.xlabel(\"Length of tweets\",fontsize = 14)\n",
    "plt.ylabel(\"Frequency/Number of tweets\",fontsize = 14)\n",
    "plt.title(\"Histogram showing changes in frquency distribution of length of generic tweets before and after cleaning\",fontsize = 16)\n",
    "plt.legend(('Raw positive', 'Cleaned positive','Raw negative','Cleaned negative'),loc='best')"
   ]
  },
  {
   "cell_type": "markdown",
   "metadata": {},
   "source": [
    "An interesting thing to look at here is the frequency distribution of the length of tweets before and after data cleaning.\n",
    "1. The frequency distribution apprears more like a normal distribution after the data cleaning, with the bin [15,30) having the maximum frequency for clean tweets (meaning maximum number of clean tweets are between 15 to 30 characters in length) and bins [45,90) and [90,105) having maximum frequencies for raw unprocessed tweets.\n",
    "2. The distribution of positive and negative tweets in each bin for both raw and cleaned tweets is quite similar suggesting the following:\n",
    ">1. The cleaning procedure applied is not biased towards positive or negative sentiment tweets.\n",
    ">2. Both positive and negative sentiment tweets are equally distributed based on their length (almost equal number of positive and negative sentiment tweets exist for all tweet lengths)."
   ]
  },
  {
   "cell_type": "markdown",
   "metadata": {},
   "source": [
    "### Model preparation\n",
    "\n",
    "The data can now be prepared for feeding into to the Logistic regrassion model.\n",
    "\n",
    "Following piece of code, tokenizes (breaks the tweet into a list of words) the tweet in both datasets and records the Word list and Word count in new separate columns."
   ]
  },
  {
   "cell_type": "code",
   "execution_count": 40,
   "metadata": {
    "collapsed": true
   },
   "outputs": [],
   "source": [
    "df_gt['Word_list'] = [TextBlob(x).words for x in df_gt['text']]\n",
    "df_gt['Word_count'] = [len(x) for x in df_gt['Word_list']]"
   ]
  },
  {
   "cell_type": "code",
   "execution_count": 41,
   "metadata": {
    "collapsed": true
   },
   "outputs": [],
   "source": [
    "df_at['Word_list'] = [TextBlob(x).words for x in df_at['text']]\n",
    "df_at['Word_count'] = [len(x) for x in df_at['Word_list']]"
   ]
  },
  {
   "cell_type": "code",
   "execution_count": 42,
   "metadata": {
    "collapsed": false
   },
   "outputs": [
    {
     "data": {
      "text/plain": [
       "(200000, 11458)"
      ]
     },
     "execution_count": 42,
     "metadata": {},
     "output_type": "execute_result"
    }
   ],
   "source": [
    "len(df_gt), len(df_at)"
   ]
  },
  {
   "cell_type": "markdown",
   "metadata": {},
   "source": [
    "For building the features of the logistic model, the bag of words approach was used, wherein the frequency of unigrams (individual words) and bigrams was recorded for each tweet and used as feautres. This was implemented using the CountVectorizer in scikit-learn library. The maximum number of features was kept at 1000 as the program runs into a \"Memory error\" beyond that number of features.\n",
    "\n",
    "A new matrix X_gt for generic tweets (and X_at for airline tweets, created later) was created containing the unigram and bigram frequency of occurence in each cell, corresponding to the tweet in that particular row."
   ]
  },
  {
   "cell_type": "code",
   "execution_count": 43,
   "metadata": {
    "collapsed": true
   },
   "outputs": [],
   "source": [
    "from sklearn.feature_extraction.text import CountVectorizer\n",
    "vectorizer_gt = CountVectorizer(max_features=1000,ngram_range=(1, 2))\n",
    "X_gt = vectorizer_gt.fit_transform(df_gt['text'])"
   ]
  },
  {
   "cell_type": "code",
   "execution_count": 44,
   "metadata": {},
   "outputs": [
    {
     "data": {
      "text/plain": [
       "1000"
      ]
     },
     "execution_count": 44,
     "metadata": {},
     "output_type": "execute_result"
    }
   ],
   "source": [
    "len(vectorizer_gt.get_feature_names())"
   ]
  },
  {
   "cell_type": "code",
   "execution_count": 45,
   "metadata": {
    "collapsed": false
   },
   "outputs": [],
   "source": [
    "X1_gt = X_gt.toarray()"
   ]
  },
  {
   "cell_type": "code",
   "execution_count": 46,
   "metadata": {
    "collapsed": false
   },
   "outputs": [],
   "source": [
    "columns_gt = vectorizer_gt.get_feature_names()"
   ]
  },
  {
   "cell_type": "code",
   "execution_count": 47,
   "metadata": {
    "collapsed": false
   },
   "outputs": [
    {
     "data": {
      "text/plain": [
       "list"
      ]
     },
     "execution_count": 47,
     "metadata": {},
     "output_type": "execute_result"
    }
   ],
   "source": [
    "type(columns_gt)"
   ]
  },
  {
   "cell_type": "markdown",
   "metadata": {},
   "source": [
    "The array was converted into a pandas dataframe with column heads as the unigrams and bigrams that form the features of the model."
   ]
  },
  {
   "cell_type": "code",
   "execution_count": 48,
   "metadata": {
    "collapsed": true
   },
   "outputs": [],
   "source": [
    "df_gt_bow = pd.DataFrame(data=X1_gt, columns=columns_gt)"
   ]
  },
  {
   "cell_type": "markdown",
   "metadata": {},
   "source": [
    "The output of the model was recorded as a pandas Series Y_gt, containing the class labels for each tweet."
   ]
  },
  {
   "cell_type": "code",
   "execution_count": 49,
   "metadata": {},
   "outputs": [],
   "source": [
    "Y_gt = df_gt['class']"
   ]
  },
  {
   "cell_type": "markdown",
   "metadata": {},
   "source": [
    "A list of indices for the generic tweets dataset was obtained."
   ]
  },
  {
   "cell_type": "code",
   "execution_count": 50,
   "metadata": {},
   "outputs": [],
   "source": [
    "df_gt_index = list(df_gt_bow.index)"
   ]
  },
  {
   "cell_type": "markdown",
   "metadata": {},
   "source": [
    "The list of indices was split into training (70%) and testing (30%) data set indices."
   ]
  },
  {
   "cell_type": "code",
   "execution_count": 51,
   "metadata": {
    "collapsed": false
   },
   "outputs": [],
   "source": [
    "from sklearn.model_selection import train_test_split\n",
    "train_indices_gt, test_indices_gt = train_test_split(df_gt_index,test_size=0.3)"
   ]
  },
  {
   "cell_type": "code",
   "execution_count": 52,
   "metadata": {},
   "outputs": [
    {
     "data": {
      "text/plain": [
       "(140000, 60000)"
      ]
     },
     "execution_count": 52,
     "metadata": {},
     "output_type": "execute_result"
    }
   ],
   "source": [
    "len(train_indices_gt), len(test_indices_gt)"
   ]
  },
  {
   "cell_type": "markdown",
   "metadata": {},
   "source": [
    "The train and test indices were then used to obtain the entire training and tesing data set using the iloc method."
   ]
  },
  {
   "cell_type": "code",
   "execution_count": 53,
   "metadata": {},
   "outputs": [],
   "source": [
    "X_gt_train = df_gt_bow.iloc[train_indices_gt]\n",
    "Y_gt_train = Y_gt[train_indices_gt]\n",
    "\n",
    "X_gt_test = df_gt_bow.iloc[test_indices_gt]\n",
    "Y_gt_test = Y_gt[test_indices_gt]"
   ]
  },
  {
   "cell_type": "markdown",
   "metadata": {},
   "source": [
    "The training dataset was fed into the default logistic regression model in scikit-learn to build the logistic model for the generic tweets."
   ]
  },
  {
   "cell_type": "code",
   "execution_count": 54,
   "metadata": {
    "collapsed": true
   },
   "outputs": [
    {
     "name": "stderr",
     "output_type": "stream",
     "text": [
      "/home/jupyterlab/conda/lib/python3.6/site-packages/sklearn/linear_model/logistic.py:433: FutureWarning: Default solver will be changed to 'lbfgs' in 0.22. Specify a solver to silence this warning.\n",
      "  FutureWarning)\n"
     ]
    },
    {
     "data": {
      "text/plain": [
       "LogisticRegression(C=1.0, class_weight=None, dual=False, fit_intercept=True,\n",
       "          intercept_scaling=1, max_iter=100, multi_class='warn',\n",
       "          n_jobs=None, penalty='l2', random_state=None, solver='warn',\n",
       "          tol=0.0001, verbose=0, warm_start=False)"
      ]
     },
     "execution_count": 54,
     "metadata": {},
     "output_type": "execute_result"
    }
   ],
   "source": [
    "from sklearn.linear_model import LogisticRegression\n",
    "\n",
    "model = LogisticRegression()\n",
    "model.fit(X_gt_train,Y_gt_train)"
   ]
  },
  {
   "cell_type": "markdown",
   "metadata": {},
   "source": [
    "Predictions from the model were obtained for the test dataset."
   ]
  },
  {
   "cell_type": "code",
   "execution_count": 55,
   "metadata": {
    "collapsed": false
   },
   "outputs": [],
   "source": [
    "predictions = model.predict(X_gt_test)"
   ]
  },
  {
   "cell_type": "markdown",
   "metadata": {},
   "source": [
    "The accuracy score [(true positive + true negative)/total] was computed based on the expected predictions from the test dataset and the percentage score was printed."
   ]
  },
  {
   "cell_type": "code",
   "execution_count": 56,
   "metadata": {
    "collapsed": true
   },
   "outputs": [
    {
     "name": "stdout",
     "output_type": "stream",
     "text": [
      "70.87833333333333\n"
     ]
    }
   ],
   "source": [
    "from sklearn.metrics import accuracy_score\n",
    "score = accuracy_score(Y_gt_test,predictions)\n",
    "print (score*100)"
   ]
  },
  {
   "cell_type": "markdown",
   "metadata": {},
   "source": [
    "A classification report was also generated using the predictions and expected Y values. This shows the precision value of each class (true/total), the recall score [true positives/(true positives + false negatives)] and the F1 score (best: 1, worst: 0)"
   ]
  },
  {
   "cell_type": "code",
   "execution_count": 57,
   "metadata": {
    "collapsed": true
   },
   "outputs": [
    {
     "name": "stdout",
     "output_type": "stream",
     "text": [
      "              precision    recall  f1-score   support\n",
      "\n",
      "           0       0.75      0.63      0.69     30030\n",
      "           4       0.68      0.78      0.73     29970\n",
      "\n",
      "   micro avg       0.71      0.71      0.71     60000\n",
      "   macro avg       0.71      0.71      0.71     60000\n",
      "weighted avg       0.71      0.71      0.71     60000\n",
      "\n"
     ]
    }
   ],
   "source": [
    "from sklearn.metrics import classification_report\n",
    "print(classification_report(Y_gt_test,predictions))"
   ]
  },
  {
   "cell_type": "markdown",
   "metadata": {},
   "source": [
    "A confusion matrix was also printed, which contains predicted classes as column headings and actual classes in rows."
   ]
  },
  {
   "cell_type": "code",
   "execution_count": 58,
   "metadata": {},
   "outputs": [
    {
     "name": "stdout",
     "output_type": "stream",
     "text": [
      "[[19027 11003]\n",
      " [ 6470 23500]]\n"
     ]
    }
   ],
   "source": [
    "from sklearn.metrics import confusion_matrix\n",
    "print (confusion_matrix(Y_gt_test,predictions))"
   ]
  },
  {
   "cell_type": "code",
   "execution_count": 59,
   "metadata": {},
   "outputs": [
    {
     "data": {
      "text/plain": [
       "array([0, 4, 4, ..., 4, 0, 4])"
      ]
     },
     "execution_count": 59,
     "metadata": {},
     "output_type": "execute_result"
    }
   ],
   "source": [
    "predictions"
   ]
  },
  {
   "cell_type": "markdown",
   "metadata": {},
   "source": [
    "Similar procedure applied for obtaining features from airline tweets dataset.\n",
    "1. Unigrams and bigrams used\n",
    "2. Maximum number of features = 1000\n",
    "3. Output obtained as a matrix\n",
    "4. Converted into a dataframe\n",
    "5. The same dataframe used as the test dataset for the model generated using generic tweets.\n",
    "6. Output predictions obtained\n",
    "7. Classification metrics obtained."
   ]
  },
  {
   "cell_type": "code",
   "execution_count": 60,
   "metadata": {
    "collapsed": true
   },
   "outputs": [],
   "source": [
    "vectorizer_at = CountVectorizer(max_features=1000,ngram_range=(1, 2))\n",
    "X_at = vectorizer_at.fit_transform(df_at['text'])"
   ]
  },
  {
   "cell_type": "code",
   "execution_count": 61,
   "metadata": {
    "collapsed": false
   },
   "outputs": [],
   "source": [
    "X1_at = X_at.toarray()"
   ]
  },
  {
   "cell_type": "code",
   "execution_count": 62,
   "metadata": {
    "collapsed": false
   },
   "outputs": [],
   "source": [
    "columns_at = vectorizer_at.get_feature_names()"
   ]
  },
  {
   "cell_type": "code",
   "execution_count": 63,
   "metadata": {
    "collapsed": true
   },
   "outputs": [],
   "source": [
    "df_at_bow = pd.DataFrame(data=X1_at, columns=columns_at)"
   ]
  },
  {
   "cell_type": "code",
   "execution_count": 64,
   "metadata": {
    "collapsed": true
   },
   "outputs": [],
   "source": [
    "Y_at_test = df_at['sentiment']"
   ]
  },
  {
   "cell_type": "code",
   "execution_count": 65,
   "metadata": {
    "collapsed": true
   },
   "outputs": [],
   "source": [
    "Y_at_test = Y_at_test.apply(lambda x: 0 if (x=='negative') else 4)"
   ]
  },
  {
   "cell_type": "code",
   "execution_count": 66,
   "metadata": {},
   "outputs": [],
   "source": [
    "X_at_test = df_at_bow"
   ]
  },
  {
   "cell_type": "code",
   "execution_count": 67,
   "metadata": {},
   "outputs": [],
   "source": [
    "predictions_at = model.predict(X_at_test)"
   ]
  },
  {
   "cell_type": "code",
   "execution_count": 68,
   "metadata": {
    "collapsed": true
   },
   "outputs": [
    {
     "name": "stdout",
     "output_type": "stream",
     "text": [
      "54.721591900855294\n"
     ]
    }
   ],
   "source": [
    "score = accuracy_score(Y_at_test,predictions_at)\n",
    "print (score*100)"
   ]
  },
  {
   "cell_type": "code",
   "execution_count": 69,
   "metadata": {
    "collapsed": true
   },
   "outputs": [
    {
     "name": "stdout",
     "output_type": "stream",
     "text": [
      "              precision    recall  f1-score   support\n",
      "\n",
      "           0       0.85      0.52      0.65      9118\n",
      "           4       0.26      0.64      0.37      2340\n",
      "\n",
      "   micro avg       0.55      0.55      0.55     11458\n",
      "   macro avg       0.55      0.58      0.51     11458\n",
      "weighted avg       0.73      0.55      0.59     11458\n",
      "\n"
     ]
    }
   ],
   "source": [
    "print(classification_report(Y_at_test,predictions_at))"
   ]
  },
  {
   "cell_type": "code",
   "execution_count": 70,
   "metadata": {
    "collapsed": true
   },
   "outputs": [
    {
     "name": "stdout",
     "output_type": "stream",
     "text": [
      "[[4769 4349]\n",
      " [ 839 1501]]\n"
     ]
    }
   ],
   "source": [
    "print (confusion_matrix(Y_at_test,predictions_at))"
   ]
  },
  {
   "cell_type": "code",
   "execution_count": 71,
   "metadata": {},
   "outputs": [],
   "source": [
    "df_at['Model_1_predicted_output'] = predictions_at"
   ]
  },
  {
   "cell_type": "markdown",
   "metadata": {},
   "source": [
    "### BONUS Figure:\n",
    "##### Plot showing predicted sentiment distribution compared to actual"
   ]
  },
  {
   "cell_type": "code",
   "execution_count": 72,
   "metadata": {},
   "outputs": [
    {
     "name": "stderr",
     "output_type": "stream",
     "text": [
      "/home/jupyterlab/conda/lib/python3.6/site-packages/ipykernel_launcher.py:6: RuntimeWarning: invalid value encountered in true_divide\n",
      "  \n",
      "/home/jupyterlab/conda/lib/python3.6/site-packages/ipykernel_launcher.py:12: RuntimeWarning: invalid value encountered in true_divide\n",
      "  if sys.path[0] == '':\n"
     ]
    },
    {
     "data": {
      "text/plain": [
       "<matplotlib.legend.Legend at 0x7f7bd8126c18>"
      ]
     },
     "execution_count": 72,
     "metadata": {},
     "output_type": "execute_result"
    },
    {
     "data": {
      "image/png": "[encoded data removed]",
      "text/plain": [
       "<Figure size 432x288 with 1 Axes>"
      ]
     },
     "metadata": {
      "needs_background": "light"
     },
     "output_type": "display_data"
    }
   ],
   "source": [
    "X = np.arange(len(tags_dict.keys()))\n",
    "df_at_positive = df_at[df_at['sentiment'] == 'positive']\n",
    "df_at_negative = df_at[df_at['sentiment'] == 'negative']\n",
    "Y1 = [len(df_at_positive[df_at_positive[airline]]) for airline in tags_dict.keys()]\n",
    "Y2 = [len(df_at_negative[df_at_negative[airline]]) for airline in tags_dict.keys()]\n",
    "Y3 = np.divide(Y1,np.add(Y1,Y2))*100\n",
    "\n",
    "df_at_positive_pred = df_at[df_at['Model_1_predicted_output'] == 4]\n",
    "df_at_negative_pred = df_at[df_at['Model_1_predicted_output'] == 0]\n",
    "Y4 = [len(df_at_positive_pred[df_at_positive_pred[airline]]) for airline in tags_dict.keys()]\n",
    "Y5 = [len(df_at_negative_pred[df_at_negative_pred[airline]]) for airline in tags_dict.keys()]\n",
    "Y6 = np.divide(Y4,np.add(Y4,Y5))*100\n",
    "\n",
    "p1 = plt.bar(X, Y3, width = 0.4)\n",
    "p2 = plt.bar(X+0.4, Y6, width = 0.4)\n",
    "plt.xticks(X+0.2,tags_dict.keys(), rotation='vertical')\n",
    "plt.ylabel(\"Percentage of positive tweets\", fontsize = 14)\n",
    "plt.xlabel(\"Airline associated wth tweets\", fontsize = 14)\n",
    "plt.title(\"Plot showing percentage of positive tweets (predicted and actual sentiment) among different airlines\", fontsize = 16)\n",
    "plt.legend((p1[0], p2[0]), ('Actual', 'Predicted'), loc='best')"
   ]
  },
  {
   "cell_type": "markdown",
   "metadata": {},
   "source": [
    "Creating a new dataframe from the airline tweets containing only the negative sentiment tweets and resetting the index."
   ]
  },
  {
   "cell_type": "code",
   "execution_count": 73,
   "metadata": {},
   "outputs": [],
   "source": [
    "df_at_neg = df_at[df_at['sentiment'] == 'negative']\n",
    "df_at_neg = df_at_neg.reset_index(drop=True)"
   ]
  },
  {
   "cell_type": "markdown",
   "metadata": {},
   "source": [
    "Obtaining the top 1000 features of the new tweet set using CountVectorizer.\n",
    "1. Output features as an array.\n",
    "2. Converting to dataframe.\n",
    "3. Generating corresponding Y values (reason for negative sentiment).\n",
    "4. Splitting the indices into training and testing sets.\n",
    "5. Obtaining the test and training datasets using .loc method in pandas."
   ]
  },
  {
   "cell_type": "code",
   "execution_count": 74,
   "metadata": {
    "collapsed": true
   },
   "outputs": [],
   "source": [
    "vectorizer_at_new = CountVectorizer(max_features=1000,ngram_range=(1, 2))\n",
    "X_at_new = vectorizer_at_new.fit_transform(df_at_neg['text'])"
   ]
  },
  {
   "cell_type": "code",
   "execution_count": 75,
   "metadata": {
    "collapsed": false
   },
   "outputs": [],
   "source": [
    "X1_at_new = X_at_new.toarray()"
   ]
  },
  {
   "cell_type": "code",
   "execution_count": 76,
   "metadata": {
    "collapsed": false
   },
   "outputs": [],
   "source": [
    "columns_at_new = vectorizer_at_new.get_feature_names()"
   ]
  },
  {
   "cell_type": "code",
   "execution_count": 77,
   "metadata": {
    "collapsed": true
   },
   "outputs": [],
   "source": [
    "new_X_at = pd.DataFrame(data=X1_at_new, columns=columns_at_new)"
   ]
  },
  {
   "cell_type": "code",
   "execution_count": 78,
   "metadata": {},
   "outputs": [
    {
     "data": {
      "text/plain": [
       "9118"
      ]
     },
     "execution_count": 78,
     "metadata": {},
     "output_type": "execute_result"
    }
   ],
   "source": [
    "len(df_at_neg)"
   ]
  },
  {
   "cell_type": "code",
   "execution_count": 79,
   "metadata": {},
   "outputs": [],
   "source": [
    "new_Y_at = df_at_neg['negative_reason']"
   ]
  },
  {
   "cell_type": "code",
   "execution_count": 80,
   "metadata": {},
   "outputs": [],
   "source": [
    "#new_Y_at = new_Y_at.apply(lambda x: reasons_dict[x])"
   ]
  },
  {
   "cell_type": "code",
   "execution_count": 81,
   "metadata": {},
   "outputs": [],
   "source": [
    "train_indices_at_neg, test_indices_at_neg = train_test_split(list(df_at_neg.index),test_size=0.3)"
   ]
  },
  {
   "cell_type": "code",
   "execution_count": 82,
   "metadata": {},
   "outputs": [
    {
     "data": {
      "text/plain": [
       "(6382, 2736, True)"
      ]
     },
     "execution_count": 82,
     "metadata": {},
     "output_type": "execute_result"
    }
   ],
   "source": [
    "len(train_indices_at_neg), len(test_indices_at_neg), len(train_indices_at_neg) + len(test_indices_at_neg) == len(df_at_neg)"
   ]
  },
  {
   "cell_type": "code",
   "execution_count": 83,
   "metadata": {},
   "outputs": [
    {
     "data": {
      "text/plain": [
       "True"
      ]
     },
     "execution_count": 83,
     "metadata": {},
     "output_type": "execute_result"
    }
   ],
   "source": [
    "set(new_X_at.index) - set(train_indices_at_neg) == set(test_indices_at_neg)"
   ]
  },
  {
   "cell_type": "code",
   "execution_count": null,
   "metadata": {},
   "outputs": [],
   "source": []
  },
  {
   "cell_type": "code",
   "execution_count": 84,
   "metadata": {},
   "outputs": [],
   "source": [
    "new_X_at_train = new_X_at.loc[train_indices_at_neg]\n",
    "new_X_at_test = new_X_at.loc[test_indices_at_neg]\n",
    "\n",
    "new_Y_at_train = new_Y_at.loc[train_indices_at_neg]\n",
    "new_Y_at_test = new_Y_at.loc[test_indices_at_neg]"
   ]
  },
  {
   "cell_type": "markdown",
   "metadata": {},
   "source": [
    "Fitting a new logistic model to the new training and testing dataset.\n",
    "\n",
    "Obtaining the predictions on the test set.\n",
    "\n",
    "Outputting the classification metrics."
   ]
  },
  {
   "cell_type": "code",
   "execution_count": 85,
   "metadata": {},
   "outputs": [
    {
     "name": "stderr",
     "output_type": "stream",
     "text": [
      "/home/jupyterlab/conda/lib/python3.6/site-packages/sklearn/linear_model/logistic.py:433: FutureWarning: Default solver will be changed to 'lbfgs' in 0.22. Specify a solver to silence this warning.\n",
      "  FutureWarning)\n",
      "/home/jupyterlab/conda/lib/python3.6/site-packages/sklearn/linear_model/logistic.py:460: FutureWarning: Default multi_class will be changed to 'auto' in 0.22. Specify the multi_class option to silence this warning.\n",
      "  \"this warning.\", FutureWarning)\n"
     ]
    },
    {
     "data": {
      "text/plain": [
       "LogisticRegression(C=1.0, class_weight=None, dual=False, fit_intercept=True,\n",
       "          intercept_scaling=1, max_iter=100, multi_class='warn',\n",
       "          n_jobs=None, penalty='l2', random_state=None, solver='warn',\n",
       "          tol=0.0001, verbose=0, warm_start=False)"
      ]
     },
     "execution_count": 85,
     "metadata": {},
     "output_type": "execute_result"
    }
   ],
   "source": [
    "model_at = LogisticRegression()\n",
    "model_at.fit(new_X_at_train,new_Y_at_train)"
   ]
  },
  {
   "cell_type": "code",
   "execution_count": 86,
   "metadata": {},
   "outputs": [],
   "source": [
    "predictions_at_new = model_at.predict(new_X_at_test)"
   ]
  },
  {
   "cell_type": "code",
   "execution_count": 87,
   "metadata": {},
   "outputs": [
    {
     "name": "stdout",
     "output_type": "stream",
     "text": [
      "61.074561403508774\n"
     ]
    }
   ],
   "source": [
    "score = accuracy_score(new_Y_at_test,predictions_at_new)\n",
    "print (score*100)"
   ]
  },
  {
   "cell_type": "code",
   "execution_count": 88,
   "metadata": {},
   "outputs": [
    {
     "name": "stdout",
     "output_type": "stream",
     "text": [
      "                             precision    recall  f1-score   support\n",
      "\n",
      "                 Bad Flight       0.49      0.32      0.39       163\n",
      "                 Can't Tell       0.43      0.52      0.47       379\n",
      "           Cancelled Flight       0.76      0.69      0.73       258\n",
      "     Customer Service Issue       0.64      0.75      0.69       865\n",
      "            Damaged Luggage       1.00      0.10      0.18        20\n",
      "Flight Attendant Complaints       0.54      0.32      0.40       160\n",
      "    Flight Booking Problems       0.42      0.25      0.31       156\n",
      "                Late Flight       0.70      0.71      0.70       482\n",
      "               Lost Luggage       0.71      0.74      0.72       212\n",
      "                  longlines       0.17      0.07      0.10        41\n",
      "\n",
      "                  micro avg       0.61      0.61      0.61      2736\n",
      "                  macro avg       0.58      0.45      0.47      2736\n",
      "               weighted avg       0.61      0.61      0.60      2736\n",
      "\n"
     ]
    }
   ],
   "source": [
    "print(classification_report(new_Y_at_test,predictions_at_new))"
   ]
  },
  {
   "cell_type": "code",
   "execution_count": 89,
   "metadata": {},
   "outputs": [
    {
     "name": "stdout",
     "output_type": "stream",
     "text": [
      "[[ 52  39   1  30   0   6   3  26   4   2]\n",
      " [ 15 198   7 117   0   5  11  18   8   0]\n",
      " [  1  16 179  27   0   1   8  20   4   2]\n",
      " [  8  92  27 648   0  18  25  28  16   3]\n",
      " [  0   3   0   2   2   1   0   0  12   0]\n",
      " [ 11  14   1  46   0  51   3  25   6   3]\n",
      " [  7  30   7  61   0   1  39   9   2   0]\n",
      " [  9  49  11  48   0   7   2 343  10   3]\n",
      " [  2  13   1  21   0   3   1  13 156   2]\n",
      " [  2   8   0  13   0   2   0  10   3   3]]\n"
     ]
    }
   ],
   "source": [
    "print (confusion_matrix(new_Y_at_test,predictions_at_new))"
   ]
  },
  {
   "cell_type": "code",
   "execution_count": 90,
   "metadata": {},
   "outputs": [],
   "source": [
    "df_at_neg_test = df_at_neg.loc[test_indices_at_neg]"
   ]
  },
  {
   "cell_type": "code",
   "execution_count": 91,
   "metadata": {},
   "outputs": [],
   "source": [
    "df_at_neg_test['Reason_Prediction'] = predictions_at_new"
   ]
  },
  {
   "cell_type": "code",
   "execution_count": 92,
   "metadata": {},
   "outputs": [
    {
     "data": {
      "text/plain": [
       "(2736, 2736)"
      ]
     },
     "execution_count": 92,
     "metadata": {},
     "output_type": "execute_result"
    }
   ],
   "source": [
    "len(df_at_neg_test[df_at_neg_test['negative_reason'] == new_Y_at_test]), len(df_at_neg_test)"
   ]
  },
  {
   "cell_type": "markdown",
   "metadata": {},
   "source": [
    "### BONUS Figure\n",
    "##### Plot showing number of tweets belonging to each reason"
   ]
  },
  {
   "cell_type": "code",
   "execution_count": 93,
   "metadata": {},
   "outputs": [
    {
     "name": "stdout",
     "output_type": "stream",
     "text": [
      "[\"Can't Tell\", 'Lost Luggage', 'longlines', 'Late Flight', 'Bad Flight', 'Flight Attendant Complaints', 'Cancelled Flight', 'Damaged Luggage', 'Flight Booking Problems', 'Customer Service Issue']\n"
     ]
    },
    {
     "data": {
      "text/plain": [
       "<matplotlib.legend.Legend at 0x7f7bd5c56dd8>"
      ]
     },
     "execution_count": 93,
     "metadata": {},
     "output_type": "execute_result"
    },
    {
     "data": {
      "image/png": "[encoded data removed]",
      "text/plain": [
       "<Figure size 432x288 with 1 Axes>"
      ]
     },
     "metadata": {
      "needs_background": "light"
     },
     "output_type": "display_data"
    }
   ],
   "source": [
    "reasons = list(set(list(df_at_neg['negative_reason'])))\n",
    "print (reasons)\n",
    "X = np.arange(len(reasons))\n",
    "Y1 = [len(df_at_neg_test[df_at_neg_test['negative_reason'] == reason]) for reason in reasons]\n",
    "Y2 = [len(df_at_neg_test[df_at_neg_test['Reason_Prediction'] == reason]) for reason in reasons]\n",
    "\n",
    "p1 = plt.bar(X, Y1, width = 0.4)\n",
    "p2 = plt.bar(X+0.4, Y2, width = 0.4)\n",
    "plt.xticks(X+0.2,reasons, rotation='vertical')\n",
    "plt.ylabel(\"Number of tweets\", fontsize = 14)\n",
    "plt.xlabel(\"Reason for negative sentiment\", fontsize = 14)\n",
    "plt.title(\"Plot showing number of tweets belonging to each reason for negative tweets (test dataset)\", fontsize = 16)\n",
    "plt.legend((p1[0], p2[0]), ('Actual', 'Predicted'), loc='best')"
   ]
  },
  {
   "cell_type": "code",
   "execution_count": 94,
   "metadata": {},
   "outputs": [],
   "source": [
    "df_at_eg = df_at_neg_test[df_at_neg_test['negative_reason'] == 'Damaged Luggage']"
   ]
  },
  {
   "cell_type": "markdown",
   "metadata": {},
   "source": [
    "Following dataframe slice is shown as references have been made to this in the \"Results and Discussion\" section that appears further on."
   ]
  },
  {
   "cell_type": "code",
   "execution_count": 95,
   "metadata": {},
   "outputs": [
    {
     "data": {
      "text/html": [
       "<div>\n",
       "<style scoped>\n",
       "    .dataframe tbody tr th:only-of-type {\n",
       "        vertical-align: middle;\n",
       "    }\n",
       "\n",
       "    .dataframe tbody tr th {\n",
       "        vertical-align: top;\n",
       "    }\n",
       "\n",
       "    .dataframe thead th {\n",
       "        text-align: right;\n",
       "    }\n",
       "</style>\n",
       "<table border=\"1\" class=\"dataframe\">\n",
       "  <thead>\n",
       "    <tr style=\"text-align: right;\">\n",
       "      <th></th>\n",
       "      <th>text</th>\n",
       "      <th>negative_reason</th>\n",
       "      <th>Reason_Prediction</th>\n",
       "    </tr>\n",
       "  </thead>\n",
       "  <tbody>\n",
       "    <tr>\n",
       "      <th>7624</th>\n",
       "      <td>great will media filmcrew photography cameragear</td>\n",
       "      <td>Damaged Luggage</td>\n",
       "      <td>Customer Service Issue</td>\n",
       "    </tr>\n",
       "    <tr>\n",
       "      <th>359</th>\n",
       "      <td>unfortunate xmas gift razor ripped front pocke...</td>\n",
       "      <td>Damaged Luggage</td>\n",
       "      <td>Can't Tell</td>\n",
       "    </tr>\n",
       "    <tr>\n",
       "      <th>7473</th>\n",
       "      <td>horrible service luggage destroyed flight woma...</td>\n",
       "      <td>Damaged Luggage</td>\n",
       "      <td>Lost Luggage</td>\n",
       "    </tr>\n",
       "    <tr>\n",
       "      <th>4772</th>\n",
       "      <td>2 fight 2 credit bag skytrax jetblue corpgreed...</td>\n",
       "      <td>Damaged Luggage</td>\n",
       "      <td>Lost Luggage</td>\n",
       "    </tr>\n",
       "    <tr>\n",
       "      <th>7797</th>\n",
       "      <td>understand oneworld member treat customers fai...</td>\n",
       "      <td>Damaged Luggage</td>\n",
       "      <td>Customer Service Issue</td>\n",
       "    </tr>\n",
       "    <tr>\n",
       "      <th>106</th>\n",
       "      <td>luggage severely dentedmissing wheel coming ba...</td>\n",
       "      <td>Damaged Luggage</td>\n",
       "      <td>Lost Luggage</td>\n",
       "    </tr>\n",
       "    <tr>\n",
       "      <th>7931</th>\n",
       "      <td>airline ruined bag refuse</td>\n",
       "      <td>Damaged Luggage</td>\n",
       "      <td>Lost Luggage</td>\n",
       "    </tr>\n",
       "    <tr>\n",
       "      <th>3131</th>\n",
       "      <td>- baggage motto cover small tear ripped seam s...</td>\n",
       "      <td>Damaged Luggage</td>\n",
       "      <td>Can't Tell</td>\n",
       "    </tr>\n",
       "    <tr>\n",
       "      <th>3075</th>\n",
       "      <td>deserves red carpet tx destroy luggage &amp;only 7...</td>\n",
       "      <td>Damaged Luggage</td>\n",
       "      <td>Lost Luggage</td>\n",
       "    </tr>\n",
       "    <tr>\n",
       "      <th>4925</th>\n",
       "      <td>stroller travel credit help cover cost strolle...</td>\n",
       "      <td>Damaged Luggage</td>\n",
       "      <td>Flight Attendant Complaints</td>\n",
       "    </tr>\n",
       "    <tr>\n",
       "      <th>303</th>\n",
       "      <td>luggage broken youcouldntmakethis brokenwheel</td>\n",
       "      <td>Damaged Luggage</td>\n",
       "      <td>Lost Luggage</td>\n",
       "    </tr>\n",
       "    <tr>\n",
       "      <th>2074</th>\n",
       "      <td>broke suitcase &amp; refuses repair estimate</td>\n",
       "      <td>Damaged Luggage</td>\n",
       "      <td>Lost Luggage</td>\n",
       "    </tr>\n",
       "    <tr>\n",
       "      <th>7582</th>\n",
       "      <td>- submitted damaged bag complaint onlineis goo...</td>\n",
       "      <td>Damaged Luggage</td>\n",
       "      <td>Damaged Luggage</td>\n",
       "    </tr>\n",
       "    <tr>\n",
       "      <th>55</th>\n",
       "      <td>understand dm answer damaged luggage policy</td>\n",
       "      <td>Damaged Luggage</td>\n",
       "      <td>Damaged Luggage</td>\n",
       "    </tr>\n",
       "    <tr>\n",
       "      <th>7596</th>\n",
       "      <td>- broke sick wifes luggage handle going jfk la...</td>\n",
       "      <td>Damaged Luggage</td>\n",
       "      <td>Lost Luggage</td>\n",
       "    </tr>\n",
       "    <tr>\n",
       "      <th>3825</th>\n",
       "      <td>large group majority 30 bags soaked</td>\n",
       "      <td>Damaged Luggage</td>\n",
       "      <td>Lost Luggage</td>\n",
       "    </tr>\n",
       "    <tr>\n",
       "      <th>2930</th>\n",
       "      <td>kudos bag handler dtw gate 21 710 pm keep bags...</td>\n",
       "      <td>Damaged Luggage</td>\n",
       "      <td>Lost Luggage</td>\n",
       "    </tr>\n",
       "    <tr>\n",
       "      <th>6911</th>\n",
       "      <td>2 times checked bags severally damaged answers...</td>\n",
       "      <td>Damaged Luggage</td>\n",
       "      <td>Lost Luggage</td>\n",
       "    </tr>\n",
       "    <tr>\n",
       "      <th>166</th>\n",
       "      <td>spend 5 hours worrying items carryon brokensto...</td>\n",
       "      <td>Damaged Luggage</td>\n",
       "      <td>Lost Luggage</td>\n",
       "    </tr>\n",
       "    <tr>\n",
       "      <th>4809</th>\n",
       "      <td>guys musicians sensitive safety instruments fl...</td>\n",
       "      <td>Damaged Luggage</td>\n",
       "      <td>Can't Tell</td>\n",
       "    </tr>\n",
       "  </tbody>\n",
       "</table>\n",
       "</div>"
      ],
      "text/plain": [
       "                                                   text  negative_reason  \\\n",
       "7624   great will media filmcrew photography cameragear  Damaged Luggage   \n",
       "359   unfortunate xmas gift razor ripped front pocke...  Damaged Luggage   \n",
       "7473  horrible service luggage destroyed flight woma...  Damaged Luggage   \n",
       "4772  2 fight 2 credit bag skytrax jetblue corpgreed...  Damaged Luggage   \n",
       "7797  understand oneworld member treat customers fai...  Damaged Luggage   \n",
       "106   luggage severely dentedmissing wheel coming ba...  Damaged Luggage   \n",
       "7931                          airline ruined bag refuse  Damaged Luggage   \n",
       "3131  - baggage motto cover small tear ripped seam s...  Damaged Luggage   \n",
       "3075  deserves red carpet tx destroy luggage &only 7...  Damaged Luggage   \n",
       "4925  stroller travel credit help cover cost strolle...  Damaged Luggage   \n",
       "303       luggage broken youcouldntmakethis brokenwheel  Damaged Luggage   \n",
       "2074           broke suitcase & refuses repair estimate  Damaged Luggage   \n",
       "7582  - submitted damaged bag complaint onlineis goo...  Damaged Luggage   \n",
       "55          understand dm answer damaged luggage policy  Damaged Luggage   \n",
       "7596  - broke sick wifes luggage handle going jfk la...  Damaged Luggage   \n",
       "3825                large group majority 30 bags soaked  Damaged Luggage   \n",
       "2930  kudos bag handler dtw gate 21 710 pm keep bags...  Damaged Luggage   \n",
       "6911  2 times checked bags severally damaged answers...  Damaged Luggage   \n",
       "166   spend 5 hours worrying items carryon brokensto...  Damaged Luggage   \n",
       "4809  guys musicians sensitive safety instruments fl...  Damaged Luggage   \n",
       "\n",
       "                Reason_Prediction  \n",
       "7624       Customer Service Issue  \n",
       "359                    Can't Tell  \n",
       "7473                 Lost Luggage  \n",
       "4772                 Lost Luggage  \n",
       "7797       Customer Service Issue  \n",
       "106                  Lost Luggage  \n",
       "7931                 Lost Luggage  \n",
       "3131                   Can't Tell  \n",
       "3075                 Lost Luggage  \n",
       "4925  Flight Attendant Complaints  \n",
       "303                  Lost Luggage  \n",
       "2074                 Lost Luggage  \n",
       "7582              Damaged Luggage  \n",
       "55                Damaged Luggage  \n",
       "7596                 Lost Luggage  \n",
       "3825                 Lost Luggage  \n",
       "2930                 Lost Luggage  \n",
       "6911                 Lost Luggage  \n",
       "166                  Lost Luggage  \n",
       "4809                   Can't Tell  "
      ]
     },
     "execution_count": 95,
     "metadata": {},
     "output_type": "execute_result"
    }
   ],
   "source": [
    "df_at_eg[['text','negative_reason','Reason_Prediction']]"
   ]
  },
  {
   "cell_type": "code",
   "execution_count": null,
   "metadata": {},
   "outputs": [],
   "source": []
  },
  {
   "cell_type": "markdown",
   "metadata": {},
   "source": [
    "### Results and discussion\n",
    "#### Model 1 (trained on generic tweets)\n",
    "1. The model generated for classification of tweets into positive and negative based on sentiment, has an overall accuracy of ~ 71% (value changes slightly based on the train-test split) which means for a given tweet set, the model will accurately predict the correct sentiment class (+ve or -ve) of about 71% of the samples.\n",
    "2. The precision for classification into negative sentiment tweets (0.74) is higher compared to the classification into positive sentiment (0.68) meaning the model can more accurately predict a negative tweet than a positive tweet.\n",
    "3. However, the sensitivity (recall) is higher for the positive sentiment class (0.78) than the negative sentiment class (0.64).\n",
    "4. When this model is used to predict the sentiment of the airline tweets, the accuracy of the prediction drops to ~ 55%, i.e. the model accurately predicts the correct sentiment class (+ve or -ve) of about 55% of the airline tweets.\n",
    "5. An interesting observation is that the model predictions result in lesser false negatives than previous case (i.e. higher precision in negative sentiment class: 85%) but much greater false positives (i.e. lower precision in positive sentiment class: 26%). This means, that there are more chances of an actual negative tweet being ignored (because it was classified as a positive) by this particular model, which is not favourable for the airline companies with focus on improving customer service.\n",
    "6. This fact is better expressed by the additional figure generated (as part of Bonus Work) showing the percentage of positive tweets, both predicted and actual, for each airlines. Therefore, for 2015, public opinion on twitter (in general), when used to identify the satisfaction/dissatisfaction of customers based on the sentiment of the tweet, results in a model that overestimates the number of positive sentiment tweets for each airline.\n",
    "7. The sensitivity is still higher for the positive sentiment class (0.65) compared to the negative one (0.53).\n",
    "8. Another interesting observation that can be made is that assuming the model is sufficiently accurate for a generic environment, all the airlines (ignoring the case of Frontier Airlines as there is only 1 data point for it) have positve tweets ranging from ~(40% to 60%), showing that, to the public eye the sentiment is more or less balanced, with Spirit Airlines, Delta Airlines and Alaska Airlines (Alaska includes Virgin America) leading the way.\n",
    "\n",
    "#### Model 2 (trained on negative tweets in the airline dataset)\n",
    "1. The model generated for the finding the reason associated with the negative tweet has an accuracy of ~ 61%, i.e. for 61% of the total tweets, the reason was predicted correctly.\n",
    "2. The precision of prediction is highest for \"Damaged luggage\": 100%, followed by \"Cancelled flight\": 79% and \"Late Flight\": 70%. It is the lowest for \"longlines\": 27%.\n",
    "3. The sensitivity/recall is highest for \"Customer service issue\": 75%, followed by \"Late flight\": 71% and \"Cancelled flight\": 70%\n",
    "##### Reasons for the poor model (Model 2)\n",
    ">1. Synonymous words e.g. bag and luggage have been differentiated by the model. With the result, even if the tweet has \"...damaged bag...\" it is not classified in \"Damaged luggage\". This may be because the word \"bag\" has a higher importance for \"Lost luggage\" class than \"Damaged luggage\" class. This is also evident from the confusion matrix which shows that the majority of falsely classified tweets in \"Damaged luggage\" class (total 27) have been classified as \"Lost luggage\" (12) compared to its true class (only 4).\n",
    ">2. Moreover, the reasons themselves may not be independent of each other as someone who has lost their luggage would go to the customer service desk to report it in addition to those who found it damaged. For such cases figuring out the exact reason of dissatisfaction may require higher level n-grams to account for the precedence relationship.\n",
    "\n",
    "#### Ways to improve the models:\n",
    "1. Increasing the feature size can help improve the accuracy of the model. Currently the feature size was kept at 1000 due to memory constraints.\n",
    "2. The usage of n-grams of higher n values (i.e. trigrams, etc.) can also be tried. Though this may result in some loss of objectivity in the analysis for higher n values, but would benefit in the case of model 2.\n",
    "3. Instead of simply using the frequency itself, the frequency value can be multiplied to the sentiment value of each word or n-gram (obtained from libraries like TextBlob) to design better features.\n",
    "4. By default the Logistic model in sklearn uses 'l2' penalty corresponding to ridge regression. Choosing 'l1' penalty may result in removal of unimportant features that may improve the performance of the model."
   ]
  },
  {
   "cell_type": "markdown",
   "metadata": {},
   "source": [
    "### BONUS Figure\n",
    "##### Heatmap showing the confusion matrix in multiclass logistic regression for negative sentiment"
   ]
  },
  {
   "cell_type": "code",
   "execution_count": 96,
   "metadata": {},
   "outputs": [
    {
     "data": {
      "text/plain": [
       "Text(32.99999999999999, 0.5, 'True class')"
      ]
     },
     "execution_count": 96,
     "metadata": {},
     "output_type": "execute_result"
    },
    {
     "data": {
      "image/png": "[encoded data removed]",
      "text/plain": [
       "<Figure size 432x288 with 2 Axes>"
      ]
     },
     "metadata": {
      "needs_background": "light"
     },
     "output_type": "display_data"
    }
   ],
   "source": [
    "hm = seaborn.heatmap(confusion_matrix(new_Y_at_test,predictions_at_new),xticklabels=sorted(reasons), yticklabels=sorted(reasons),cmap='PiYG')\n",
    "hm.set_title(\"Heatmap representing the confusion matrix of multiclass logistic regression for predicting the reason for negative sentiment\", fontsize=16)\n",
    "hm.set_xlabel(\"Predicted class\",fontsize=14)\n",
    "hm.set_ylabel(\"True class\",fontsize=14)"
   ]
  },
  {
   "cell_type": "code",
   "execution_count": null,
   "metadata": {},
   "outputs": [],
   "source": []
  }
 ],
 "metadata": {
  "kernelspec": {
   "display_name": "Python 3",
   "language": "python",
   "name": "python3"
  },
  "language_info": {
   "codemirror_mode": {
    "name": "ipython",
    "version": 3
   },
   "file_extension": ".py",
   "mimetype": "text/x-python",
   "name": "python",
   "nbconvert_exporter": "python",
   "pygments_lexer": "ipython3",
   "version": "3.6.8"
  },
  "widgets": {
   "state": {},
   "version": "1.1.2"
  }
 },
 "nbformat": 4,
 "nbformat_minor": 2
}
